{
 "cells": [
  {
   "cell_type": "code",
   "execution_count": 1,
   "metadata": {},
   "outputs": [],
   "source": [
    "import math\n",
    "import numpy as np\n",
    "import pandas as pd\n",
    "import matplotlib.pyplot as plt\n",
    "import xgboost as xgb\n",
    "from sklearn.metrics import mean_squared_error\n",
    "from sklearn.model_selection import train_test_split\n",
    "from datetime import datetime,timedelta"
   ]
  },
  {
   "cell_type": "code",
   "execution_count": 2,
   "metadata": {},
   "outputs": [],
   "source": [
    "file_suffix = '.csv'\n",
    "# path = '../data/dataSet_phase2/'  # set the data directory\n",
    "path = '../data/dataSets/training/'\n",
    "# filename = 'volume(table 6)_training2'\n",
    "filename = 'volume(table 6)_training'"
   ]
  },
  {
   "cell_type": "code",
   "execution_count": 3,
   "metadata": {},
   "outputs": [],
   "source": [
    "def avgVolume(in_file):\n",
    "\n",
    "    out_suffix = '_20min_avg_volume'\n",
    "    in_file_name = in_file + file_suffix\n",
    "    out_file_name = in_file.split('_')[1] + out_suffix + file_suffix\n",
    "\n",
    "    # Step 1: Load volume data\n",
    "    fr = open(path + in_file_name, 'r')\n",
    "    fr.readline()  # skip the header\n",
    "    vol_data = fr.readlines()\n",
    "    fr.close()\n",
    "\n",
    "    # Step 2: Create a dictionary to caculate and store volume per time window\n",
    "    volumes = {}  # key: time window value: dictionary\n",
    "    for i in range(len(vol_data)):\n",
    "        each_pass = vol_data[i].replace('\"', '').split(',')\n",
    "        tollgate_id = each_pass[1]\n",
    "        direction = each_pass[2]\n",
    "\n",
    "        pass_time = each_pass[0]\n",
    "        pass_time = datetime.strptime(pass_time, \"%Y-%m-%d %H:%M:%S\")\n",
    "        time_window_minute = int(math.floor(pass_time.minute / 20) * 20)\n",
    "        #print pass_time\n",
    "        start_time_window = datetime(pass_time.year, pass_time.month, pass_time.day,\n",
    "                                     pass_time.hour, time_window_minute, 0)\n",
    "\n",
    "        if start_time_window not in volumes:\n",
    "            volumes[start_time_window] = {}\n",
    "        if tollgate_id not in volumes[start_time_window]:\n",
    "            volumes[start_time_window][tollgate_id] = {}\n",
    "        if direction not in volumes[start_time_window][tollgate_id]:\n",
    "            volumes[start_time_window][tollgate_id][direction] = 1\n",
    "        else:\n",
    "            volumes[start_time_window][tollgate_id][direction] += 1\n",
    "\n",
    "    # Step 3: format output for tollgate and direction per time window\n",
    "    fw = open(out_file_name, 'w')\n",
    "    fw.writelines(','.join(['\"tollgate_id\"', '\"time_window\"', '\"direction\"', '\"volume\"']) + '\\n')\n",
    "    time_windows = list(volumes.keys())\n",
    "    time_windows.sort()\n",
    "    for time_window_start in time_windows:\n",
    "        time_window_end = time_window_start + timedelta(minutes=20)\n",
    "        for tollgate_id in volumes[time_window_start]:\n",
    "            for direction in volumes[time_window_start][tollgate_id]:\n",
    "               out_line = ','.join(['\"' + str(tollgate_id) + '\"', \n",
    "                                 '\"[' + str(time_window_start) + ',' + str(time_window_end) + ')\"',\n",
    "                                 '\"' + str(direction) + '\"',\n",
    "                                 '\"' + str(volumes[time_window_start][tollgate_id][direction]) + '\"',\n",
    "                               ]) + '\\n'\n",
    "               fw.writelines(out_line)\n",
    "    fw.close()"
   ]
  },
  {
   "cell_type": "code",
   "execution_count": 4,
   "metadata": {},
   "outputs": [],
   "source": [
    "avgVolume(filename)"
   ]
  },
  {
   "cell_type": "code",
   "execution_count": 5,
   "metadata": {},
   "outputs": [
    {
     "data": {
      "text/plain": [
       "(10063, 4)"
      ]
     },
     "execution_count": 5,
     "metadata": {},
     "output_type": "execute_result"
    }
   ],
   "source": [
    "# df = pd.read_csv('training2_20min_avg_volume.csv')\n",
    "df = pd.read_csv('training_20min_avg_volume.csv')\n",
    "df.shape"
   ]
  },
  {
   "cell_type": "code",
   "execution_count": 6,
   "metadata": {},
   "outputs": [
    {
     "data": {
      "text/html": [
       "<div>\n",
       "<style scoped>\n",
       "    .dataframe tbody tr th:only-of-type {\n",
       "        vertical-align: middle;\n",
       "    }\n",
       "\n",
       "    .dataframe tbody tr th {\n",
       "        vertical-align: top;\n",
       "    }\n",
       "\n",
       "    .dataframe thead th {\n",
       "        text-align: right;\n",
       "    }\n",
       "</style>\n",
       "<table border=\"1\" class=\"dataframe\">\n",
       "  <thead>\n",
       "    <tr style=\"text-align: right;\">\n",
       "      <th></th>\n",
       "      <th>tollgate_id</th>\n",
       "      <th>time_window</th>\n",
       "      <th>direction</th>\n",
       "      <th>volume</th>\n",
       "    </tr>\n",
       "  </thead>\n",
       "  <tbody>\n",
       "    <tr>\n",
       "      <td>0</td>\n",
       "      <td>3</td>\n",
       "      <td>[2016-09-19 00:00:00,2016-09-19 00:20:00)</td>\n",
       "      <td>0</td>\n",
       "      <td>17</td>\n",
       "    </tr>\n",
       "    <tr>\n",
       "      <td>1</td>\n",
       "      <td>3</td>\n",
       "      <td>[2016-09-19 00:00:00,2016-09-19 00:20:00)</td>\n",
       "      <td>1</td>\n",
       "      <td>181</td>\n",
       "    </tr>\n",
       "    <tr>\n",
       "      <td>2</td>\n",
       "      <td>1</td>\n",
       "      <td>[2016-09-19 00:00:00,2016-09-19 00:20:00)</td>\n",
       "      <td>0</td>\n",
       "      <td>13</td>\n",
       "    </tr>\n",
       "    <tr>\n",
       "      <td>3</td>\n",
       "      <td>1</td>\n",
       "      <td>[2016-09-19 00:00:00,2016-09-19 00:20:00)</td>\n",
       "      <td>1</td>\n",
       "      <td>140</td>\n",
       "    </tr>\n",
       "    <tr>\n",
       "      <td>4</td>\n",
       "      <td>2</td>\n",
       "      <td>[2016-09-19 00:00:00,2016-09-19 00:20:00)</td>\n",
       "      <td>0</td>\n",
       "      <td>2</td>\n",
       "    </tr>\n",
       "  </tbody>\n",
       "</table>\n",
       "</div>"
      ],
      "text/plain": [
       "   tollgate_id                                time_window  direction  volume\n",
       "0            3  [2016-09-19 00:00:00,2016-09-19 00:20:00)          0      17\n",
       "1            3  [2016-09-19 00:00:00,2016-09-19 00:20:00)          1     181\n",
       "2            1  [2016-09-19 00:00:00,2016-09-19 00:20:00)          0      13\n",
       "3            1  [2016-09-19 00:00:00,2016-09-19 00:20:00)          1     140\n",
       "4            2  [2016-09-19 00:00:00,2016-09-19 00:20:00)          0       2"
      ]
     },
     "execution_count": 6,
     "metadata": {},
     "output_type": "execute_result"
    }
   ],
   "source": [
    "df.head()"
   ]
  },
  {
   "cell_type": "code",
   "execution_count": 7,
   "metadata": {},
   "outputs": [
    {
     "data": {
      "text/html": [
       "<div>\n",
       "<style scoped>\n",
       "    .dataframe tbody tr th:only-of-type {\n",
       "        vertical-align: middle;\n",
       "    }\n",
       "\n",
       "    .dataframe tbody tr th {\n",
       "        vertical-align: top;\n",
       "    }\n",
       "\n",
       "    .dataframe thead th {\n",
       "        text-align: right;\n",
       "    }\n",
       "</style>\n",
       "<table border=\"1\" class=\"dataframe\">\n",
       "  <thead>\n",
       "    <tr style=\"text-align: right;\">\n",
       "      <th></th>\n",
       "      <th>tollgate_id</th>\n",
       "      <th>time_window</th>\n",
       "      <th>direction</th>\n",
       "      <th>volume</th>\n",
       "    </tr>\n",
       "  </thead>\n",
       "  <tbody>\n",
       "    <tr>\n",
       "      <td>10058</td>\n",
       "      <td>2</td>\n",
       "      <td>[2016-10-17 23:40:00,2016-10-18 00:00:00)</td>\n",
       "      <td>0</td>\n",
       "      <td>18</td>\n",
       "    </tr>\n",
       "    <tr>\n",
       "      <td>10059</td>\n",
       "      <td>3</td>\n",
       "      <td>[2016-10-17 23:40:00,2016-10-18 00:00:00)</td>\n",
       "      <td>0</td>\n",
       "      <td>15</td>\n",
       "    </tr>\n",
       "    <tr>\n",
       "      <td>10060</td>\n",
       "      <td>3</td>\n",
       "      <td>[2016-10-17 23:40:00,2016-10-18 00:00:00)</td>\n",
       "      <td>1</td>\n",
       "      <td>22</td>\n",
       "    </tr>\n",
       "    <tr>\n",
       "      <td>10061</td>\n",
       "      <td>1</td>\n",
       "      <td>[2016-10-17 23:40:00,2016-10-18 00:00:00)</td>\n",
       "      <td>0</td>\n",
       "      <td>2</td>\n",
       "    </tr>\n",
       "    <tr>\n",
       "      <td>10062</td>\n",
       "      <td>1</td>\n",
       "      <td>[2016-10-17 23:40:00,2016-10-18 00:00:00)</td>\n",
       "      <td>1</td>\n",
       "      <td>10</td>\n",
       "    </tr>\n",
       "  </tbody>\n",
       "</table>\n",
       "</div>"
      ],
      "text/plain": [
       "       tollgate_id                                time_window  direction  \\\n",
       "10058            2  [2016-10-17 23:40:00,2016-10-18 00:00:00)          0   \n",
       "10059            3  [2016-10-17 23:40:00,2016-10-18 00:00:00)          0   \n",
       "10060            3  [2016-10-17 23:40:00,2016-10-18 00:00:00)          1   \n",
       "10061            1  [2016-10-17 23:40:00,2016-10-18 00:00:00)          0   \n",
       "10062            1  [2016-10-17 23:40:00,2016-10-18 00:00:00)          1   \n",
       "\n",
       "       volume  \n",
       "10058      18  \n",
       "10059      15  \n",
       "10060      22  \n",
       "10061       2  \n",
       "10062      10  "
      ]
     },
     "execution_count": 7,
     "metadata": {},
     "output_type": "execute_result"
    }
   ],
   "source": [
    "df.tail()"
   ]
  },
  {
   "cell_type": "code",
   "execution_count": 8,
   "metadata": {},
   "outputs": [
    {
     "name": "stderr",
     "output_type": "stream",
     "text": [
      "D:\\anaconda\\conda3\\lib\\site-packages\\ipykernel_launcher.py:1: UserWarning: Boolean Series key will be reindexed to match DataFrame index.\n",
      "  \"\"\"Entry point for launching an IPython kernel.\n"
     ]
    },
    {
     "data": {
      "text/plain": [
       "(2084, 4)"
      ]
     },
     "execution_count": 8,
     "metadata": {},
     "output_type": "execute_result"
    }
   ],
   "source": [
    "tollgate_1_direction_0 = df[df['tollgate_id'] == 1][df['direction'] == 0]\n",
    "tollgate_1_direction_0.shape"
   ]
  },
  {
   "cell_type": "code",
   "execution_count": 9,
   "metadata": {},
   "outputs": [
    {
     "data": {
      "text/html": [
       "<div>\n",
       "<style scoped>\n",
       "    .dataframe tbody tr th:only-of-type {\n",
       "        vertical-align: middle;\n",
       "    }\n",
       "\n",
       "    .dataframe tbody tr th {\n",
       "        vertical-align: top;\n",
       "    }\n",
       "\n",
       "    .dataframe thead th {\n",
       "        text-align: right;\n",
       "    }\n",
       "</style>\n",
       "<table border=\"1\" class=\"dataframe\">\n",
       "  <thead>\n",
       "    <tr style=\"text-align: right;\">\n",
       "      <th></th>\n",
       "      <th>tollgate_id</th>\n",
       "      <th>time_window</th>\n",
       "      <th>direction</th>\n",
       "      <th>volume</th>\n",
       "    </tr>\n",
       "  </thead>\n",
       "  <tbody>\n",
       "    <tr>\n",
       "      <td>2</td>\n",
       "      <td>1</td>\n",
       "      <td>[2016-09-19 00:00:00,2016-09-19 00:20:00)</td>\n",
       "      <td>0</td>\n",
       "      <td>13</td>\n",
       "    </tr>\n",
       "    <tr>\n",
       "      <td>5</td>\n",
       "      <td>1</td>\n",
       "      <td>[2016-09-19 00:20:00,2016-09-19 00:40:00)</td>\n",
       "      <td>0</td>\n",
       "      <td>6</td>\n",
       "    </tr>\n",
       "    <tr>\n",
       "      <td>11</td>\n",
       "      <td>1</td>\n",
       "      <td>[2016-09-19 00:40:00,2016-09-19 01:00:00)</td>\n",
       "      <td>0</td>\n",
       "      <td>9</td>\n",
       "    </tr>\n",
       "    <tr>\n",
       "      <td>16</td>\n",
       "      <td>1</td>\n",
       "      <td>[2016-09-19 01:00:00,2016-09-19 01:20:00)</td>\n",
       "      <td>0</td>\n",
       "      <td>10</td>\n",
       "    </tr>\n",
       "    <tr>\n",
       "      <td>18</td>\n",
       "      <td>1</td>\n",
       "      <td>[2016-09-19 01:20:00,2016-09-19 01:40:00)</td>\n",
       "      <td>0</td>\n",
       "      <td>14</td>\n",
       "    </tr>\n",
       "  </tbody>\n",
       "</table>\n",
       "</div>"
      ],
      "text/plain": [
       "    tollgate_id                                time_window  direction  volume\n",
       "2             1  [2016-09-19 00:00:00,2016-09-19 00:20:00)          0      13\n",
       "5             1  [2016-09-19 00:20:00,2016-09-19 00:40:00)          0       6\n",
       "11            1  [2016-09-19 00:40:00,2016-09-19 01:00:00)          0       9\n",
       "16            1  [2016-09-19 01:00:00,2016-09-19 01:20:00)          0      10\n",
       "18            1  [2016-09-19 01:20:00,2016-09-19 01:40:00)          0      14"
      ]
     },
     "execution_count": 9,
     "metadata": {},
     "output_type": "execute_result"
    }
   ],
   "source": [
    "tollgate_1_direction_0.head()"
   ]
  },
  {
   "cell_type": "code",
   "execution_count": 10,
   "metadata": {},
   "outputs": [
    {
     "name": "stderr",
     "output_type": "stream",
     "text": [
      "D:\\anaconda\\conda3\\lib\\site-packages\\ipykernel_launcher.py:1: UserWarning: Boolean Series key will be reindexed to match DataFrame index.\n",
      "  \"\"\"Entry point for launching an IPython kernel.\n"
     ]
    },
    {
     "data": {
      "text/plain": [
       "(2084, 4)"
      ]
     },
     "execution_count": 10,
     "metadata": {},
     "output_type": "execute_result"
    }
   ],
   "source": [
    "tollgate_1_direction_1 = df[df['tollgate_id'] == 1][df['direction'] == 1]\n",
    "tollgate_1_direction_1.shape"
   ]
  },
  {
   "cell_type": "code",
   "execution_count": 11,
   "metadata": {},
   "outputs": [
    {
     "data": {
      "text/html": [
       "<div>\n",
       "<style scoped>\n",
       "    .dataframe tbody tr th:only-of-type {\n",
       "        vertical-align: middle;\n",
       "    }\n",
       "\n",
       "    .dataframe tbody tr th {\n",
       "        vertical-align: top;\n",
       "    }\n",
       "\n",
       "    .dataframe thead th {\n",
       "        text-align: right;\n",
       "    }\n",
       "</style>\n",
       "<table border=\"1\" class=\"dataframe\">\n",
       "  <thead>\n",
       "    <tr style=\"text-align: right;\">\n",
       "      <th></th>\n",
       "      <th>tollgate_id</th>\n",
       "      <th>time_window</th>\n",
       "      <th>direction</th>\n",
       "      <th>volume</th>\n",
       "    </tr>\n",
       "  </thead>\n",
       "  <tbody>\n",
       "    <tr>\n",
       "      <td>3</td>\n",
       "      <td>1</td>\n",
       "      <td>[2016-09-19 00:00:00,2016-09-19 00:20:00)</td>\n",
       "      <td>1</td>\n",
       "      <td>140</td>\n",
       "    </tr>\n",
       "    <tr>\n",
       "      <td>6</td>\n",
       "      <td>1</td>\n",
       "      <td>[2016-09-19 00:20:00,2016-09-19 00:40:00)</td>\n",
       "      <td>1</td>\n",
       "      <td>56</td>\n",
       "    </tr>\n",
       "    <tr>\n",
       "      <td>12</td>\n",
       "      <td>1</td>\n",
       "      <td>[2016-09-19 00:40:00,2016-09-19 01:00:00)</td>\n",
       "      <td>1</td>\n",
       "      <td>31</td>\n",
       "    </tr>\n",
       "    <tr>\n",
       "      <td>17</td>\n",
       "      <td>1</td>\n",
       "      <td>[2016-09-19 01:00:00,2016-09-19 01:20:00)</td>\n",
       "      <td>1</td>\n",
       "      <td>4</td>\n",
       "    </tr>\n",
       "    <tr>\n",
       "      <td>19</td>\n",
       "      <td>1</td>\n",
       "      <td>[2016-09-19 01:20:00,2016-09-19 01:40:00)</td>\n",
       "      <td>1</td>\n",
       "      <td>14</td>\n",
       "    </tr>\n",
       "  </tbody>\n",
       "</table>\n",
       "</div>"
      ],
      "text/plain": [
       "    tollgate_id                                time_window  direction  volume\n",
       "3             1  [2016-09-19 00:00:00,2016-09-19 00:20:00)          1     140\n",
       "6             1  [2016-09-19 00:20:00,2016-09-19 00:40:00)          1      56\n",
       "12            1  [2016-09-19 00:40:00,2016-09-19 01:00:00)          1      31\n",
       "17            1  [2016-09-19 01:00:00,2016-09-19 01:20:00)          1       4\n",
       "19            1  [2016-09-19 01:20:00,2016-09-19 01:40:00)          1      14"
      ]
     },
     "execution_count": 11,
     "metadata": {},
     "output_type": "execute_result"
    }
   ],
   "source": [
    "tollgate_1_direction_1.head()"
   ]
  },
  {
   "cell_type": "code",
   "execution_count": 12,
   "metadata": {},
   "outputs": [
    {
     "name": "stderr",
     "output_type": "stream",
     "text": [
      "D:\\anaconda\\conda3\\lib\\site-packages\\ipykernel_launcher.py:1: UserWarning: Boolean Series key will be reindexed to match DataFrame index.\n",
      "  \"\"\"Entry point for launching an IPython kernel.\n"
     ]
    },
    {
     "data": {
      "text/plain": [
       "(1724, 4)"
      ]
     },
     "execution_count": 12,
     "metadata": {},
     "output_type": "execute_result"
    }
   ],
   "source": [
    "tollgate_2_direction_0 = df[df['tollgate_id'] == 2][df['direction'] == 0]\n",
    "tollgate_2_direction_0.shape"
   ]
  },
  {
   "cell_type": "code",
   "execution_count": 13,
   "metadata": {},
   "outputs": [
    {
     "data": {
      "text/html": [
       "<div>\n",
       "<style scoped>\n",
       "    .dataframe tbody tr th:only-of-type {\n",
       "        vertical-align: middle;\n",
       "    }\n",
       "\n",
       "    .dataframe tbody tr th {\n",
       "        vertical-align: top;\n",
       "    }\n",
       "\n",
       "    .dataframe thead th {\n",
       "        text-align: right;\n",
       "    }\n",
       "</style>\n",
       "<table border=\"1\" class=\"dataframe\">\n",
       "  <thead>\n",
       "    <tr style=\"text-align: right;\">\n",
       "      <th></th>\n",
       "      <th>tollgate_id</th>\n",
       "      <th>time_window</th>\n",
       "      <th>direction</th>\n",
       "      <th>volume</th>\n",
       "    </tr>\n",
       "  </thead>\n",
       "  <tbody>\n",
       "    <tr>\n",
       "      <td>4</td>\n",
       "      <td>2</td>\n",
       "      <td>[2016-09-19 00:00:00,2016-09-19 00:20:00)</td>\n",
       "      <td>0</td>\n",
       "      <td>2</td>\n",
       "    </tr>\n",
       "    <tr>\n",
       "      <td>15</td>\n",
       "      <td>2</td>\n",
       "      <td>[2016-09-19 01:00:00,2016-09-19 01:20:00)</td>\n",
       "      <td>0</td>\n",
       "      <td>1</td>\n",
       "    </tr>\n",
       "    <tr>\n",
       "      <td>22</td>\n",
       "      <td>2</td>\n",
       "      <td>[2016-09-19 01:40:00,2016-09-19 02:00:00)</td>\n",
       "      <td>0</td>\n",
       "      <td>2</td>\n",
       "    </tr>\n",
       "    <tr>\n",
       "      <td>64</td>\n",
       "      <td>2</td>\n",
       "      <td>[2016-09-19 05:00:00,2016-09-19 05:20:00)</td>\n",
       "      <td>0</td>\n",
       "      <td>14</td>\n",
       "    </tr>\n",
       "    <tr>\n",
       "      <td>71</td>\n",
       "      <td>2</td>\n",
       "      <td>[2016-09-19 05:20:00,2016-09-19 05:40:00)</td>\n",
       "      <td>0</td>\n",
       "      <td>12</td>\n",
       "    </tr>\n",
       "  </tbody>\n",
       "</table>\n",
       "</div>"
      ],
      "text/plain": [
       "    tollgate_id                                time_window  direction  volume\n",
       "4             2  [2016-09-19 00:00:00,2016-09-19 00:20:00)          0       2\n",
       "15            2  [2016-09-19 01:00:00,2016-09-19 01:20:00)          0       1\n",
       "22            2  [2016-09-19 01:40:00,2016-09-19 02:00:00)          0       2\n",
       "64            2  [2016-09-19 05:00:00,2016-09-19 05:20:00)          0      14\n",
       "71            2  [2016-09-19 05:20:00,2016-09-19 05:40:00)          0      12"
      ]
     },
     "execution_count": 13,
     "metadata": {},
     "output_type": "execute_result"
    }
   ],
   "source": [
    "tollgate_2_direction_0.head()"
   ]
  },
  {
   "cell_type": "code",
   "execution_count": 14,
   "metadata": {},
   "outputs": [
    {
     "name": "stderr",
     "output_type": "stream",
     "text": [
      "D:\\anaconda\\conda3\\lib\\site-packages\\ipykernel_launcher.py:1: UserWarning: Boolean Series key will be reindexed to match DataFrame index.\n",
      "  \"\"\"Entry point for launching an IPython kernel.\n"
     ]
    },
    {
     "data": {
      "text/plain": [
       "(2086, 4)"
      ]
     },
     "execution_count": 14,
     "metadata": {},
     "output_type": "execute_result"
    }
   ],
   "source": [
    "tollgate_3_direction_0 = df[df['tollgate_id'] == 3][df['direction'] == 0]\n",
    "tollgate_3_direction_0.shape"
   ]
  },
  {
   "cell_type": "code",
   "execution_count": 15,
   "metadata": {},
   "outputs": [
    {
     "data": {
      "text/html": [
       "<div>\n",
       "<style scoped>\n",
       "    .dataframe tbody tr th:only-of-type {\n",
       "        vertical-align: middle;\n",
       "    }\n",
       "\n",
       "    .dataframe tbody tr th {\n",
       "        vertical-align: top;\n",
       "    }\n",
       "\n",
       "    .dataframe thead th {\n",
       "        text-align: right;\n",
       "    }\n",
       "</style>\n",
       "<table border=\"1\" class=\"dataframe\">\n",
       "  <thead>\n",
       "    <tr style=\"text-align: right;\">\n",
       "      <th></th>\n",
       "      <th>tollgate_id</th>\n",
       "      <th>time_window</th>\n",
       "      <th>direction</th>\n",
       "      <th>volume</th>\n",
       "    </tr>\n",
       "  </thead>\n",
       "  <tbody>\n",
       "    <tr>\n",
       "      <td>0</td>\n",
       "      <td>3</td>\n",
       "      <td>[2016-09-19 00:00:00,2016-09-19 00:20:00)</td>\n",
       "      <td>0</td>\n",
       "      <td>17</td>\n",
       "    </tr>\n",
       "    <tr>\n",
       "      <td>7</td>\n",
       "      <td>3</td>\n",
       "      <td>[2016-09-19 00:20:00,2016-09-19 00:40:00)</td>\n",
       "      <td>0</td>\n",
       "      <td>16</td>\n",
       "    </tr>\n",
       "    <tr>\n",
       "      <td>9</td>\n",
       "      <td>3</td>\n",
       "      <td>[2016-09-19 00:40:00,2016-09-19 01:00:00)</td>\n",
       "      <td>0</td>\n",
       "      <td>16</td>\n",
       "    </tr>\n",
       "    <tr>\n",
       "      <td>13</td>\n",
       "      <td>3</td>\n",
       "      <td>[2016-09-19 01:00:00,2016-09-19 01:20:00)</td>\n",
       "      <td>0</td>\n",
       "      <td>17</td>\n",
       "    </tr>\n",
       "    <tr>\n",
       "      <td>20</td>\n",
       "      <td>3</td>\n",
       "      <td>[2016-09-19 01:20:00,2016-09-19 01:40:00)</td>\n",
       "      <td>0</td>\n",
       "      <td>17</td>\n",
       "    </tr>\n",
       "  </tbody>\n",
       "</table>\n",
       "</div>"
      ],
      "text/plain": [
       "    tollgate_id                                time_window  direction  volume\n",
       "0             3  [2016-09-19 00:00:00,2016-09-19 00:20:00)          0      17\n",
       "7             3  [2016-09-19 00:20:00,2016-09-19 00:40:00)          0      16\n",
       "9             3  [2016-09-19 00:40:00,2016-09-19 01:00:00)          0      16\n",
       "13            3  [2016-09-19 01:00:00,2016-09-19 01:20:00)          0      17\n",
       "20            3  [2016-09-19 01:20:00,2016-09-19 01:40:00)          0      17"
      ]
     },
     "execution_count": 15,
     "metadata": {},
     "output_type": "execute_result"
    }
   ],
   "source": [
    "tollgate_3_direction_0.head()"
   ]
  },
  {
   "cell_type": "code",
   "execution_count": 16,
   "metadata": {},
   "outputs": [
    {
     "name": "stderr",
     "output_type": "stream",
     "text": [
      "D:\\anaconda\\conda3\\lib\\site-packages\\ipykernel_launcher.py:1: UserWarning: Boolean Series key will be reindexed to match DataFrame index.\n",
      "  \"\"\"Entry point for launching an IPython kernel.\n"
     ]
    },
    {
     "data": {
      "text/plain": [
       "(2085, 4)"
      ]
     },
     "execution_count": 16,
     "metadata": {},
     "output_type": "execute_result"
    }
   ],
   "source": [
    "tollgate_3_direction_1 = df[df['tollgate_id'] == 3][df['direction'] == 1]\n",
    "tollgate_3_direction_1.shape"
   ]
  },
  {
   "cell_type": "code",
   "execution_count": 17,
   "metadata": {},
   "outputs": [
    {
     "data": {
      "text/html": [
       "<div>\n",
       "<style scoped>\n",
       "    .dataframe tbody tr th:only-of-type {\n",
       "        vertical-align: middle;\n",
       "    }\n",
       "\n",
       "    .dataframe tbody tr th {\n",
       "        vertical-align: top;\n",
       "    }\n",
       "\n",
       "    .dataframe thead th {\n",
       "        text-align: right;\n",
       "    }\n",
       "</style>\n",
       "<table border=\"1\" class=\"dataframe\">\n",
       "  <thead>\n",
       "    <tr style=\"text-align: right;\">\n",
       "      <th></th>\n",
       "      <th>tollgate_id</th>\n",
       "      <th>time_window</th>\n",
       "      <th>direction</th>\n",
       "      <th>volume</th>\n",
       "    </tr>\n",
       "  </thead>\n",
       "  <tbody>\n",
       "    <tr>\n",
       "      <td>1</td>\n",
       "      <td>3</td>\n",
       "      <td>[2016-09-19 00:00:00,2016-09-19 00:20:00)</td>\n",
       "      <td>1</td>\n",
       "      <td>181</td>\n",
       "    </tr>\n",
       "    <tr>\n",
       "      <td>8</td>\n",
       "      <td>3</td>\n",
       "      <td>[2016-09-19 00:20:00,2016-09-19 00:40:00)</td>\n",
       "      <td>1</td>\n",
       "      <td>112</td>\n",
       "    </tr>\n",
       "    <tr>\n",
       "      <td>10</td>\n",
       "      <td>3</td>\n",
       "      <td>[2016-09-19 00:40:00,2016-09-19 01:00:00)</td>\n",
       "      <td>1</td>\n",
       "      <td>93</td>\n",
       "    </tr>\n",
       "    <tr>\n",
       "      <td>14</td>\n",
       "      <td>3</td>\n",
       "      <td>[2016-09-19 01:00:00,2016-09-19 01:20:00)</td>\n",
       "      <td>1</td>\n",
       "      <td>4</td>\n",
       "    </tr>\n",
       "    <tr>\n",
       "      <td>21</td>\n",
       "      <td>3</td>\n",
       "      <td>[2016-09-19 01:20:00,2016-09-19 01:40:00)</td>\n",
       "      <td>1</td>\n",
       "      <td>5</td>\n",
       "    </tr>\n",
       "  </tbody>\n",
       "</table>\n",
       "</div>"
      ],
      "text/plain": [
       "    tollgate_id                                time_window  direction  volume\n",
       "1             3  [2016-09-19 00:00:00,2016-09-19 00:20:00)          1     181\n",
       "8             3  [2016-09-19 00:20:00,2016-09-19 00:40:00)          1     112\n",
       "10            3  [2016-09-19 00:40:00,2016-09-19 01:00:00)          1      93\n",
       "14            3  [2016-09-19 01:00:00,2016-09-19 01:20:00)          1       4\n",
       "21            3  [2016-09-19 01:20:00,2016-09-19 01:40:00)          1       5"
      ]
     },
     "execution_count": 17,
     "metadata": {},
     "output_type": "execute_result"
    }
   ],
   "source": [
    "tollgate_3_direction_1.head()"
   ]
  },
  {
   "cell_type": "code",
   "execution_count": 18,
   "metadata": {},
   "outputs": [
    {
     "data": {
      "image/png": "[encoded data removed]",
      "text/plain": [
       "<Figure size 1440x360 with 1 Axes>"
      ]
     },
     "metadata": {
      "needs_background": "light"
     },
     "output_type": "display_data"
    }
   ],
   "source": [
    "plt.figure(figsize=(20,5))\n",
    "\n",
    "xticks = tollgate_1_direction_0['time_window'].values\n",
    "plt.plot(xticks[:72], tollgate_1_direction_0['volume'][:72], label='Tol-1&Dir-0')\n",
    "plt.plot(xticks[:72], tollgate_1_direction_1['volume'][:72], label='Tol-1&Dir-1')\n",
    "plt.plot(xticks[:72], tollgate_2_direction_0['volume'][:72], label='Tol-2&Dir-0')\n",
    "plt.plot(xticks[:72], tollgate_3_direction_0['volume'][:72], label='Tol-3&Dir-0')\n",
    "plt.plot(xticks[:72], tollgate_3_direction_1['volume'][:72], label='Tol-3&Dir-1')\n",
    "plt.xticks(xticks[:72], xticks[:72], rotation='vertical')\n",
    "plt.title('Volume - 2017.09.19')\n",
    "plt.legend()\n",
    "plt.show()"
   ]
  },
  {
   "cell_type": "code",
   "execution_count": 19,
   "metadata": {},
   "outputs": [
    {
     "data": {
      "text/html": [
       "<div>\n",
       "<style scoped>\n",
       "    .dataframe tbody tr th:only-of-type {\n",
       "        vertical-align: middle;\n",
       "    }\n",
       "\n",
       "    .dataframe tbody tr th {\n",
       "        vertical-align: top;\n",
       "    }\n",
       "\n",
       "    .dataframe thead th {\n",
       "        text-align: right;\n",
       "    }\n",
       "</style>\n",
       "<table border=\"1\" class=\"dataframe\">\n",
       "  <thead>\n",
       "    <tr style=\"text-align: right;\">\n",
       "      <th></th>\n",
       "      <th>tollgate_id</th>\n",
       "      <th>time_window</th>\n",
       "      <th>direction</th>\n",
       "      <th>volume</th>\n",
       "      <th>month</th>\n",
       "      <th>day</th>\n",
       "    </tr>\n",
       "  </thead>\n",
       "  <tbody>\n",
       "    <tr>\n",
       "      <td>0</td>\n",
       "      <td>3</td>\n",
       "      <td>[2016-09-19 00:00:00,2016-09-19 00:20:00)</td>\n",
       "      <td>0</td>\n",
       "      <td>17</td>\n",
       "      <td>09</td>\n",
       "      <td>19</td>\n",
       "    </tr>\n",
       "    <tr>\n",
       "      <td>1</td>\n",
       "      <td>3</td>\n",
       "      <td>[2016-09-19 00:00:00,2016-09-19 00:20:00)</td>\n",
       "      <td>1</td>\n",
       "      <td>181</td>\n",
       "      <td>09</td>\n",
       "      <td>19</td>\n",
       "    </tr>\n",
       "    <tr>\n",
       "      <td>2</td>\n",
       "      <td>1</td>\n",
       "      <td>[2016-09-19 00:00:00,2016-09-19 00:20:00)</td>\n",
       "      <td>0</td>\n",
       "      <td>13</td>\n",
       "      <td>09</td>\n",
       "      <td>19</td>\n",
       "    </tr>\n",
       "    <tr>\n",
       "      <td>3</td>\n",
       "      <td>1</td>\n",
       "      <td>[2016-09-19 00:00:00,2016-09-19 00:20:00)</td>\n",
       "      <td>1</td>\n",
       "      <td>140</td>\n",
       "      <td>09</td>\n",
       "      <td>19</td>\n",
       "    </tr>\n",
       "    <tr>\n",
       "      <td>4</td>\n",
       "      <td>2</td>\n",
       "      <td>[2016-09-19 00:00:00,2016-09-19 00:20:00)</td>\n",
       "      <td>0</td>\n",
       "      <td>2</td>\n",
       "      <td>09</td>\n",
       "      <td>19</td>\n",
       "    </tr>\n",
       "  </tbody>\n",
       "</table>\n",
       "</div>"
      ],
      "text/plain": [
       "   tollgate_id                                time_window  direction  volume  \\\n",
       "0            3  [2016-09-19 00:00:00,2016-09-19 00:20:00)          0      17   \n",
       "1            3  [2016-09-19 00:00:00,2016-09-19 00:20:00)          1     181   \n",
       "2            1  [2016-09-19 00:00:00,2016-09-19 00:20:00)          0      13   \n",
       "3            1  [2016-09-19 00:00:00,2016-09-19 00:20:00)          1     140   \n",
       "4            2  [2016-09-19 00:00:00,2016-09-19 00:20:00)          0       2   \n",
       "\n",
       "  month day  \n",
       "0    09  19  \n",
       "1    09  19  \n",
       "2    09  19  \n",
       "3    09  19  \n",
       "4    09  19  "
      ]
     },
     "execution_count": 19,
     "metadata": {},
     "output_type": "execute_result"
    }
   ],
   "source": [
    "# Get month and day\n",
    "df['month'] = df['time_window'].str.slice(6,8)\n",
    "df['day'] = df['time_window'].str.slice(9,11)\n",
    "df.head()"
   ]
  },
  {
   "cell_type": "code",
   "execution_count": 20,
   "metadata": {},
   "outputs": [
    {
     "data": {
      "text/html": [
       "<div>\n",
       "<style scoped>\n",
       "    .dataframe tbody tr th:only-of-type {\n",
       "        vertical-align: middle;\n",
       "    }\n",
       "\n",
       "    .dataframe tbody tr th {\n",
       "        vertical-align: top;\n",
       "    }\n",
       "\n",
       "    .dataframe thead th {\n",
       "        text-align: right;\n",
       "    }\n",
       "</style>\n",
       "<table border=\"1\" class=\"dataframe\">\n",
       "  <thead>\n",
       "    <tr style=\"text-align: right;\">\n",
       "      <th></th>\n",
       "      <th>month</th>\n",
       "      <th>day</th>\n",
       "      <th>tollgate_id</th>\n",
       "      <th>direction</th>\n",
       "      <th>volume</th>\n",
       "      <th>date</th>\n",
       "    </tr>\n",
       "  </thead>\n",
       "  <tbody>\n",
       "    <tr>\n",
       "      <td>0</td>\n",
       "      <td>09</td>\n",
       "      <td>19</td>\n",
       "      <td>1</td>\n",
       "      <td>0</td>\n",
       "      <td>1969</td>\n",
       "      <td>09-19</td>\n",
       "    </tr>\n",
       "    <tr>\n",
       "      <td>1</td>\n",
       "      <td>09</td>\n",
       "      <td>19</td>\n",
       "      <td>1</td>\n",
       "      <td>1</td>\n",
       "      <td>4732</td>\n",
       "      <td>09-19</td>\n",
       "    </tr>\n",
       "    <tr>\n",
       "      <td>2</td>\n",
       "      <td>09</td>\n",
       "      <td>19</td>\n",
       "      <td>2</td>\n",
       "      <td>0</td>\n",
       "      <td>3297</td>\n",
       "      <td>09-19</td>\n",
       "    </tr>\n",
       "    <tr>\n",
       "      <td>3</td>\n",
       "      <td>09</td>\n",
       "      <td>19</td>\n",
       "      <td>3</td>\n",
       "      <td>0</td>\n",
       "      <td>5037</td>\n",
       "      <td>09-19</td>\n",
       "    </tr>\n",
       "    <tr>\n",
       "      <td>4</td>\n",
       "      <td>09</td>\n",
       "      <td>19</td>\n",
       "      <td>3</td>\n",
       "      <td>1</td>\n",
       "      <td>4529</td>\n",
       "      <td>09-19</td>\n",
       "    </tr>\n",
       "  </tbody>\n",
       "</table>\n",
       "</div>"
      ],
      "text/plain": [
       "  month day  tollgate_id  direction  volume   date\n",
       "0    09  19            1          0    1969  09-19\n",
       "1    09  19            1          1    4732  09-19\n",
       "2    09  19            2          0    3297  09-19\n",
       "3    09  19            3          0    5037  09-19\n",
       "4    09  19            3          1    4529  09-19"
      ]
     },
     "execution_count": 20,
     "metadata": {},
     "output_type": "execute_result"
    }
   ],
   "source": [
    "# Aggregate on Volume\n",
    "v_day = df.groupby(['month','day','tollgate_id','direction'], as_index=False).sum()\n",
    "v_day['date'] = v_day['month'].map(str) + '-' + v_day['day'].map(str) \n",
    "v_day.head()"
   ]
  },
  {
   "cell_type": "code",
   "execution_count": 21,
   "metadata": {},
   "outputs": [
    {
     "name": "stderr",
     "output_type": "stream",
     "text": [
      "D:\\anaconda\\conda3\\lib\\site-packages\\ipykernel_launcher.py:1: UserWarning: Boolean Series key will be reindexed to match DataFrame index.\n",
      "  \"\"\"Entry point for launching an IPython kernel.\n",
      "D:\\anaconda\\conda3\\lib\\site-packages\\ipykernel_launcher.py:2: UserWarning: Boolean Series key will be reindexed to match DataFrame index.\n",
      "  \n",
      "D:\\anaconda\\conda3\\lib\\site-packages\\ipykernel_launcher.py:3: UserWarning: Boolean Series key will be reindexed to match DataFrame index.\n",
      "  This is separate from the ipykernel package so we can avoid doing imports until\n",
      "D:\\anaconda\\conda3\\lib\\site-packages\\ipykernel_launcher.py:4: UserWarning: Boolean Series key will be reindexed to match DataFrame index.\n",
      "  after removing the cwd from sys.path.\n",
      "D:\\anaconda\\conda3\\lib\\site-packages\\ipykernel_launcher.py:5: UserWarning: Boolean Series key will be reindexed to match DataFrame index.\n",
      "  \"\"\"\n"
     ]
    },
    {
     "data": {
      "image/png": "[encoded data removed]",
      "text/plain": [
       "<Figure size 1440x360 with 1 Axes>"
      ]
     },
     "metadata": {
      "needs_background": "light"
     },
     "output_type": "display_data"
    }
   ],
   "source": [
    "v_day_tollgate_1_direction_0 = v_day[v_day['tollgate_id'] == 1][v_day['direction'] == 0]\n",
    "v_day_tollgate_1_direction_1 = v_day[v_day['tollgate_id'] == 1][v_day['direction'] == 1]\n",
    "v_day_tollgate_2_direction_0 = v_day[v_day['tollgate_id'] == 2][v_day['direction'] == 0]\n",
    "v_day_tollgate_3_direction_0 = v_day[v_day['tollgate_id'] == 3][v_day['direction'] == 0]\n",
    "v_day_tollgate_3_direction_1 = v_day[v_day['tollgate_id'] == 3][v_day['direction'] == 1]\n",
    "\n",
    "plt.figure(figsize=(20,5))\n",
    "xticks = v_day_tollgate_1_direction_0['date'].values\n",
    "\n",
    "plt.plot(xticks, v_day_tollgate_1_direction_0['volume'], label='Tol-1&Dir-0')\n",
    "plt.plot(xticks, v_day_tollgate_1_direction_1['volume'], label='Tol-1&Dir-1')\n",
    "plt.plot(xticks, v_day_tollgate_2_direction_0['volume'], label='Tol-2&Dir-0')\n",
    "plt.plot(xticks, v_day_tollgate_3_direction_0['volume'], label='Tol-3&Dir-0')\n",
    "plt.plot(xticks, v_day_tollgate_3_direction_1['volume'], label='Tol-3&Dir-1')\n",
    "\n",
    "plt.title('Volume by day ')\n",
    "plt.legend()\n",
    "plt.show()"
   ]
  },
  {
   "cell_type": "code",
   "execution_count": 22,
   "metadata": {},
   "outputs": [],
   "source": [
    "def parse_avg_volume(filename):\n",
    "    df = pd.read_csv(filename)\n",
    "\n",
    "    # Convert data format.\n",
    "    df['time_window'] = df['time_window'].apply(lambda x: x.split(',')[0].strip('['))\n",
    "    df['time_window'] = pd.to_datetime(df['time_window'], format=\"%Y-%m-%d %H:%M:%S\")\n",
    "\n",
    "    return df"
   ]
  },
  {
   "cell_type": "code",
   "execution_count": 23,
   "metadata": {},
   "outputs": [],
   "source": [
    "# Load Testing Dataset\n",
    "file_suffix = '.csv'\n",
    "path = '../data/dataSets/testing_phase1/'\n",
    "filename = 'volume(table 6)_test1'\n",
    "\n",
    "avgVolume(filename)"
   ]
  },
  {
   "cell_type": "code",
   "execution_count": 24,
   "metadata": {},
   "outputs": [
    {
     "data": {
      "text/html": [
       "<div>\n",
       "<style scoped>\n",
       "    .dataframe tbody tr th:only-of-type {\n",
       "        vertical-align: middle;\n",
       "    }\n",
       "\n",
       "    .dataframe tbody tr th {\n",
       "        vertical-align: top;\n",
       "    }\n",
       "\n",
       "    .dataframe thead th {\n",
       "        text-align: right;\n",
       "    }\n",
       "</style>\n",
       "<table border=\"1\" class=\"dataframe\">\n",
       "  <thead>\n",
       "    <tr style=\"text-align: right;\">\n",
       "      <th></th>\n",
       "      <th>tollgate_id</th>\n",
       "      <th>time_window</th>\n",
       "      <th>direction</th>\n",
       "      <th>volume</th>\n",
       "    </tr>\n",
       "  </thead>\n",
       "  <tbody>\n",
       "    <tr>\n",
       "      <td>0</td>\n",
       "      <td>3</td>\n",
       "      <td>2016-09-19</td>\n",
       "      <td>0</td>\n",
       "      <td>17</td>\n",
       "    </tr>\n",
       "    <tr>\n",
       "      <td>1</td>\n",
       "      <td>3</td>\n",
       "      <td>2016-09-19</td>\n",
       "      <td>1</td>\n",
       "      <td>181</td>\n",
       "    </tr>\n",
       "    <tr>\n",
       "      <td>2</td>\n",
       "      <td>1</td>\n",
       "      <td>2016-09-19</td>\n",
       "      <td>0</td>\n",
       "      <td>13</td>\n",
       "    </tr>\n",
       "    <tr>\n",
       "      <td>3</td>\n",
       "      <td>1</td>\n",
       "      <td>2016-09-19</td>\n",
       "      <td>1</td>\n",
       "      <td>140</td>\n",
       "    </tr>\n",
       "    <tr>\n",
       "      <td>4</td>\n",
       "      <td>2</td>\n",
       "      <td>2016-09-19</td>\n",
       "      <td>0</td>\n",
       "      <td>2</td>\n",
       "    </tr>\n",
       "  </tbody>\n",
       "</table>\n",
       "</div>"
      ],
      "text/plain": [
       "   tollgate_id time_window  direction  volume\n",
       "0            3  2016-09-19          0      17\n",
       "1            3  2016-09-19          1     181\n",
       "2            1  2016-09-19          0      13\n",
       "3            1  2016-09-19          1     140\n",
       "4            2  2016-09-19          0       2"
      ]
     },
     "execution_count": 24,
     "metadata": {},
     "output_type": "execute_result"
    }
   ],
   "source": [
    "avg_volume_train = parse_avg_volume('training_20min_avg_volume.csv')\n",
    "avg_volume_train.head()"
   ]
  },
  {
   "cell_type": "code",
   "execution_count": 25,
   "metadata": {},
   "outputs": [
    {
     "data": {
      "text/html": [
       "<div>\n",
       "<style scoped>\n",
       "    .dataframe tbody tr th:only-of-type {\n",
       "        vertical-align: middle;\n",
       "    }\n",
       "\n",
       "    .dataframe tbody tr th {\n",
       "        vertical-align: top;\n",
       "    }\n",
       "\n",
       "    .dataframe thead th {\n",
       "        text-align: right;\n",
       "    }\n",
       "</style>\n",
       "<table border=\"1\" class=\"dataframe\">\n",
       "  <thead>\n",
       "    <tr style=\"text-align: right;\">\n",
       "      <th></th>\n",
       "      <th>tollgate_id</th>\n",
       "      <th>time_window</th>\n",
       "      <th>direction</th>\n",
       "      <th>volume</th>\n",
       "    </tr>\n",
       "  </thead>\n",
       "  <tbody>\n",
       "    <tr>\n",
       "      <td>0</td>\n",
       "      <td>3</td>\n",
       "      <td>2016-10-18 06:00:00</td>\n",
       "      <td>0</td>\n",
       "      <td>30</td>\n",
       "    </tr>\n",
       "    <tr>\n",
       "      <td>1</td>\n",
       "      <td>3</td>\n",
       "      <td>2016-10-18 06:00:00</td>\n",
       "      <td>1</td>\n",
       "      <td>23</td>\n",
       "    </tr>\n",
       "    <tr>\n",
       "      <td>2</td>\n",
       "      <td>2</td>\n",
       "      <td>2016-10-18 06:00:00</td>\n",
       "      <td>0</td>\n",
       "      <td>24</td>\n",
       "    </tr>\n",
       "    <tr>\n",
       "      <td>3</td>\n",
       "      <td>1</td>\n",
       "      <td>2016-10-18 06:00:00</td>\n",
       "      <td>0</td>\n",
       "      <td>13</td>\n",
       "    </tr>\n",
       "    <tr>\n",
       "      <td>4</td>\n",
       "      <td>1</td>\n",
       "      <td>2016-10-18 06:00:00</td>\n",
       "      <td>1</td>\n",
       "      <td>37</td>\n",
       "    </tr>\n",
       "  </tbody>\n",
       "</table>\n",
       "</div>"
      ],
      "text/plain": [
       "   tollgate_id         time_window  direction  volume\n",
       "0            3 2016-10-18 06:00:00          0      30\n",
       "1            3 2016-10-18 06:00:00          1      23\n",
       "2            2 2016-10-18 06:00:00          0      24\n",
       "3            1 2016-10-18 06:00:00          0      13\n",
       "4            1 2016-10-18 06:00:00          1      37"
      ]
     },
     "execution_count": 25,
     "metadata": {},
     "output_type": "execute_result"
    }
   ],
   "source": [
    "avg_volume_test = parse_avg_volume('test1_20min_avg_volume.csv')\n",
    "avg_volume_test.head()"
   ]
  },
  {
   "cell_type": "code",
   "execution_count": 26,
   "metadata": {},
   "outputs": [],
   "source": [
    "def convert_dataframe(dataframe):\n",
    "    df = dataframe.copy()\n",
    "\n",
    "    # Process date field.\n",
    "    df['month'] = df['time_window'].apply(lambda x: x.month)\n",
    "    df['day'] = df['time_window'].apply(lambda x: x.day)\n",
    "    df['weekday'] = df['time_window'].apply(lambda x: x.dayofweek)\n",
    "    df['hour'] = df['time_window'].apply(lambda x: x.hour)\n",
    "    df['minute'] = df['time_window'].apply(lambda x: x.minute)\n",
    "    df['holiday'] = df['time_window'].apply(lambda x: is_holiday(x))\n",
    "\n",
    "    # Drop unused field.\n",
    "    df.drop(['time_window'], axis=1, inplace=True)\n",
    "    return df"
   ]
  },
  {
   "cell_type": "code",
   "execution_count": 27,
   "metadata": {},
   "outputs": [],
   "source": [
    "def is_holiday(date_time):\n",
    "\n",
    "    # Mid-Autumn Festival.\n",
    "    if date_time.month == 9 and date_time.day >= 15 and date_time.day <= 17:\n",
    "        return 1\n",
    "    # National Day.\n",
    "    elif date_time.month == 10 and date_time.day >= 1 and date_time.day <= 7:\n",
    "        return 1\n",
    "    return 0"
   ]
  },
  {
   "cell_type": "code",
   "execution_count": 29,
   "metadata": {},
   "outputs": [
    {
     "data": {
      "text/html": [
       "<div>\n",
       "<style scoped>\n",
       "    .dataframe tbody tr th:only-of-type {\n",
       "        vertical-align: middle;\n",
       "    }\n",
       "\n",
       "    .dataframe tbody tr th {\n",
       "        vertical-align: top;\n",
       "    }\n",
       "\n",
       "    .dataframe thead th {\n",
       "        text-align: right;\n",
       "    }\n",
       "</style>\n",
       "<table border=\"1\" class=\"dataframe\">\n",
       "  <thead>\n",
       "    <tr style=\"text-align: right;\">\n",
       "      <th></th>\n",
       "      <th>tollgate_id</th>\n",
       "      <th>direction</th>\n",
       "      <th>volume</th>\n",
       "      <th>month</th>\n",
       "      <th>day</th>\n",
       "      <th>weekday</th>\n",
       "      <th>hour</th>\n",
       "      <th>minute</th>\n",
       "      <th>holiday</th>\n",
       "    </tr>\n",
       "  </thead>\n",
       "  <tbody>\n",
       "    <tr>\n",
       "      <td>0</td>\n",
       "      <td>3</td>\n",
       "      <td>0</td>\n",
       "      <td>17</td>\n",
       "      <td>9</td>\n",
       "      <td>19</td>\n",
       "      <td>0</td>\n",
       "      <td>0</td>\n",
       "      <td>0</td>\n",
       "      <td>0</td>\n",
       "    </tr>\n",
       "    <tr>\n",
       "      <td>1</td>\n",
       "      <td>3</td>\n",
       "      <td>1</td>\n",
       "      <td>181</td>\n",
       "      <td>9</td>\n",
       "      <td>19</td>\n",
       "      <td>0</td>\n",
       "      <td>0</td>\n",
       "      <td>0</td>\n",
       "      <td>0</td>\n",
       "    </tr>\n",
       "    <tr>\n",
       "      <td>2</td>\n",
       "      <td>1</td>\n",
       "      <td>0</td>\n",
       "      <td>13</td>\n",
       "      <td>9</td>\n",
       "      <td>19</td>\n",
       "      <td>0</td>\n",
       "      <td>0</td>\n",
       "      <td>0</td>\n",
       "      <td>0</td>\n",
       "    </tr>\n",
       "    <tr>\n",
       "      <td>3</td>\n",
       "      <td>1</td>\n",
       "      <td>1</td>\n",
       "      <td>140</td>\n",
       "      <td>9</td>\n",
       "      <td>19</td>\n",
       "      <td>0</td>\n",
       "      <td>0</td>\n",
       "      <td>0</td>\n",
       "      <td>0</td>\n",
       "    </tr>\n",
       "    <tr>\n",
       "      <td>4</td>\n",
       "      <td>2</td>\n",
       "      <td>0</td>\n",
       "      <td>2</td>\n",
       "      <td>9</td>\n",
       "      <td>19</td>\n",
       "      <td>0</td>\n",
       "      <td>0</td>\n",
       "      <td>0</td>\n",
       "      <td>0</td>\n",
       "    </tr>\n",
       "  </tbody>\n",
       "</table>\n",
       "</div>"
      ],
      "text/plain": [
       "   tollgate_id  direction  volume  month  day  weekday  hour  minute  holiday\n",
       "0            3          0      17      9   19        0     0       0        0\n",
       "1            3          1     181      9   19        0     0       0        0\n",
       "2            1          0      13      9   19        0     0       0        0\n",
       "3            1          1     140      9   19        0     0       0        0\n",
       "4            2          0       2      9   19        0     0       0        0"
      ]
     },
     "execution_count": 29,
     "metadata": {},
     "output_type": "execute_result"
    }
   ],
   "source": [
    "train_df = avg_volume_train.copy()\n",
    "train_df = convert_dataframe(train_df)\n",
    "train_df.head()"
   ]
  },
  {
   "cell_type": "code",
   "execution_count": 30,
   "metadata": {},
   "outputs": [],
   "source": [
    "train_label = train_df['volume'].values\n",
    "train_df.drop(['volume'], axis=1, inplace=True)"
   ]
  },
  {
   "cell_type": "code",
   "execution_count": 31,
   "metadata": {},
   "outputs": [
    {
     "data": {
      "text/plain": [
       "(10063,)"
      ]
     },
     "execution_count": 31,
     "metadata": {},
     "output_type": "execute_result"
    }
   ],
   "source": [
    "train_label.shape"
   ]
  },
  {
   "cell_type": "code",
   "execution_count": 32,
   "metadata": {},
   "outputs": [
    {
     "data": {
      "text/html": [
       "<div>\n",
       "<style scoped>\n",
       "    .dataframe tbody tr th:only-of-type {\n",
       "        vertical-align: middle;\n",
       "    }\n",
       "\n",
       "    .dataframe tbody tr th {\n",
       "        vertical-align: top;\n",
       "    }\n",
       "\n",
       "    .dataframe thead th {\n",
       "        text-align: right;\n",
       "    }\n",
       "</style>\n",
       "<table border=\"1\" class=\"dataframe\">\n",
       "  <thead>\n",
       "    <tr style=\"text-align: right;\">\n",
       "      <th></th>\n",
       "      <th>tollgate_id</th>\n",
       "      <th>direction</th>\n",
       "      <th>month</th>\n",
       "      <th>day</th>\n",
       "      <th>weekday</th>\n",
       "      <th>hour</th>\n",
       "      <th>minute</th>\n",
       "      <th>holiday</th>\n",
       "    </tr>\n",
       "  </thead>\n",
       "  <tbody>\n",
       "    <tr>\n",
       "      <td>0</td>\n",
       "      <td>3</td>\n",
       "      <td>0</td>\n",
       "      <td>9</td>\n",
       "      <td>19</td>\n",
       "      <td>0</td>\n",
       "      <td>0</td>\n",
       "      <td>0</td>\n",
       "      <td>0</td>\n",
       "    </tr>\n",
       "    <tr>\n",
       "      <td>1</td>\n",
       "      <td>3</td>\n",
       "      <td>1</td>\n",
       "      <td>9</td>\n",
       "      <td>19</td>\n",
       "      <td>0</td>\n",
       "      <td>0</td>\n",
       "      <td>0</td>\n",
       "      <td>0</td>\n",
       "    </tr>\n",
       "    <tr>\n",
       "      <td>2</td>\n",
       "      <td>1</td>\n",
       "      <td>0</td>\n",
       "      <td>9</td>\n",
       "      <td>19</td>\n",
       "      <td>0</td>\n",
       "      <td>0</td>\n",
       "      <td>0</td>\n",
       "      <td>0</td>\n",
       "    </tr>\n",
       "    <tr>\n",
       "      <td>3</td>\n",
       "      <td>1</td>\n",
       "      <td>1</td>\n",
       "      <td>9</td>\n",
       "      <td>19</td>\n",
       "      <td>0</td>\n",
       "      <td>0</td>\n",
       "      <td>0</td>\n",
       "      <td>0</td>\n",
       "    </tr>\n",
       "    <tr>\n",
       "      <td>4</td>\n",
       "      <td>2</td>\n",
       "      <td>0</td>\n",
       "      <td>9</td>\n",
       "      <td>19</td>\n",
       "      <td>0</td>\n",
       "      <td>0</td>\n",
       "      <td>0</td>\n",
       "      <td>0</td>\n",
       "    </tr>\n",
       "  </tbody>\n",
       "</table>\n",
       "</div>"
      ],
      "text/plain": [
       "   tollgate_id  direction  month  day  weekday  hour  minute  holiday\n",
       "0            3          0      9   19        0     0       0        0\n",
       "1            3          1      9   19        0     0       0        0\n",
       "2            1          0      9   19        0     0       0        0\n",
       "3            1          1      9   19        0     0       0        0\n",
       "4            2          0      9   19        0     0       0        0"
      ]
     },
     "execution_count": 32,
     "metadata": {},
     "output_type": "execute_result"
    }
   ],
   "source": [
    "train_df.head()"
   ]
  },
  {
   "cell_type": "code",
   "execution_count": 33,
   "metadata": {},
   "outputs": [],
   "source": [
    "X_train, X_test, y_train, y_test = train_test_split(train_df, train_label, test_size=0.2, random_state=123)"
   ]
  },
  {
   "cell_type": "code",
   "execution_count": 37,
   "metadata": {},
   "outputs": [],
   "source": [
    "data_dmatrix = xgb.DMatrix(data=train_df,label=train_label)\n",
    "\n",
    "xg_reg = xgb.XGBRegressor(objective ='reg:linear', eta = 0.02, min_child_weight = 8,\n",
    "                subsample = 0.9, colsample_bytree = 0.8, max_depth = 8,\n",
    "                seed=1, silent=1)"
   ]
  },
  {
   "cell_type": "code",
   "execution_count": 38,
   "metadata": {},
   "outputs": [],
   "source": [
    "xg_reg.fit(X_train,y_train)\n",
    "\n",
    "preds = xg_reg.predict(X_test)"
   ]
  },
  {
   "cell_type": "code",
   "execution_count": 39,
   "metadata": {},
   "outputs": [
    {
     "name": "stdout",
     "output_type": "stream",
     "text": [
      "RMSE: 11.853444\n"
     ]
    }
   ],
   "source": [
    "rmse = np.sqrt(mean_squared_error(y_test, preds))\n",
    "print(\"RMSE: %f\" % (rmse))"
   ]
  },
  {
   "cell_type": "code",
   "execution_count": 40,
   "metadata": {},
   "outputs": [],
   "source": [
    "def mape(label, pred):\n",
    "\n",
    "    return np.mean(np.abs(label - pred).astype(np.float64) / label)"
   ]
  },
  {
   "cell_type": "code",
   "execution_count": 43,
   "metadata": {},
   "outputs": [
    {
     "name": "stdout",
     "output_type": "stream",
     "text": [
      "MAPE: 0.364782\n"
     ]
    }
   ],
   "source": [
    "test_err = mape(y_test, preds)\n",
    "print (\"MAPE: %f\" % (test_err))"
   ]
  },
  {
   "cell_type": "code",
   "execution_count": null,
   "metadata": {},
   "outputs": [],
   "source": []
  }
 ],
 "metadata": {
  "kernelspec": {
   "display_name": "Python 3",
   "language": "python",
   "name": "python3"
  },
  "language_info": {
   "codemirror_mode": {
    "name": "ipython",
    "version": 3
   },
   "file_extension": ".py",
   "mimetype": "text/x-python",
   "name": "python",
   "nbconvert_exporter": "python",
   "pygments_lexer": "ipython3",
   "version": "3.7.3"
  }
 },
 "nbformat": 4,
 "nbformat_minor": 2
}
